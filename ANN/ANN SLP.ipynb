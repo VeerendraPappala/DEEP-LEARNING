{
 "cells": [
  {
   "cell_type": "markdown",
   "metadata": {},
   "source": [
    "                                       ARTIFICIAL NEURAL NETWORKS"
   ]
  },
  {
   "cell_type": "markdown",
   "metadata": {},
   "source": [
    "                                    ON SINGLE LAYER PERCEPTOR"
   ]
  },
  {
   "cell_type": "code",
   "execution_count": 1,
   "metadata": {},
   "outputs": [],
   "source": [
    "## calling the libraries\n",
    "import numpy as np\n",
    "import pandas as pd\n",
    "import matplotlib.pyplot as plt"
   ]
  },
  {
   "cell_type": "code",
   "execution_count": 2,
   "metadata": {},
   "outputs": [
    {
     "data": {
      "text/plain": [
       "<bound method NDFrame.head of          0       1       2       3  ...      57      58      59  60\n",
       "0    0.0200  0.0371  0.0428  0.0207 ...  0.0084  0.0090  0.0032   R\n",
       "1    0.0453  0.0523  0.0843  0.0689 ...  0.0049  0.0052  0.0044   R\n",
       "2    0.0262  0.0582  0.1099  0.1083 ...  0.0164  0.0095  0.0078   R\n",
       "3    0.0100  0.0171  0.0623  0.0205 ...  0.0044  0.0040  0.0117   R\n",
       "4    0.0762  0.0666  0.0481  0.0394 ...  0.0048  0.0107  0.0094   R\n",
       "5    0.0286  0.0453  0.0277  0.0174 ...  0.0027  0.0051  0.0062   R\n",
       "6    0.0317  0.0956  0.1321  0.1408 ...  0.0143  0.0036  0.0103   R\n",
       "7    0.0519  0.0548  0.0842  0.0319 ...  0.0047  0.0048  0.0053   R\n",
       "8    0.0223  0.0375  0.0484  0.0475 ...  0.0093  0.0059  0.0022   R\n",
       "9    0.0164  0.0173  0.0347  0.0070 ...  0.0035  0.0056  0.0040   R\n",
       "10   0.0039  0.0063  0.0152  0.0336 ...  0.0003  0.0053  0.0036   R\n",
       "11   0.0123  0.0309  0.0169  0.0313 ...  0.0092  0.0009  0.0044   R\n",
       "12   0.0079  0.0086  0.0055  0.0250 ...  0.0058  0.0059  0.0032   R\n",
       "13   0.0090  0.0062  0.0253  0.0489 ...  0.0053  0.0189  0.0102   R\n",
       "14   0.0124  0.0433  0.0604  0.0449 ...  0.0196  0.0147  0.0062   R\n",
       "15   0.0298  0.0615  0.0650  0.0921 ...  0.0049  0.0200  0.0073   R\n",
       "16   0.0352  0.0116  0.0191  0.0469 ...  0.0015  0.0073  0.0067   R\n",
       "17   0.0192  0.0607  0.0378  0.0774 ...  0.0037  0.0112  0.0075   R\n",
       "18   0.0270  0.0092  0.0145  0.0278 ...  0.0132  0.0070  0.0088   R\n",
       "19   0.0126  0.0149  0.0641  0.1732 ...  0.0094  0.0116  0.0063   R\n",
       "20   0.0473  0.0509  0.0819  0.1252 ...  0.0082  0.0028  0.0027   R\n",
       "21   0.0664  0.0575  0.0842  0.0372 ...  0.0162  0.0109  0.0079   R\n",
       "22   0.0099  0.0484  0.0299  0.0297 ...  0.0160  0.0106  0.0134   R\n",
       "23   0.0115  0.0150  0.0136  0.0076 ...  0.0037  0.0070  0.0041   R\n",
       "24   0.0293  0.0644  0.0390  0.0173 ...  0.0160  0.0095  0.0011   R\n",
       "25   0.0201  0.0026  0.0138  0.0062 ...  0.0024  0.0057  0.0044   R\n",
       "26   0.0151  0.0320  0.0599  0.1050 ...  0.0019  0.0023  0.0062   R\n",
       "27   0.0177  0.0300  0.0288  0.0394 ...  0.0057  0.0032  0.0019   R\n",
       "28   0.0100  0.0275  0.0190  0.0371 ...  0.0020  0.0091  0.0058   R\n",
       "29   0.0189  0.0308  0.0197  0.0622 ...  0.0092  0.0052  0.0075   R\n",
       "..      ...     ...     ...     ... ...     ...     ...     ...  ..\n",
       "178  0.0197  0.0394  0.0384  0.0076 ...  0.0045  0.0047  0.0054   M\n",
       "179  0.0394  0.0420  0.0446  0.0551 ...  0.0068  0.0053  0.0087   M\n",
       "180  0.0310  0.0221  0.0433  0.0191 ...  0.0056  0.0067  0.0054   M\n",
       "181  0.0423  0.0321  0.0709  0.0108 ...  0.0021  0.0043  0.0017   M\n",
       "182  0.0095  0.0308  0.0539  0.0411 ...  0.0030  0.0031  0.0033   M\n",
       "183  0.0096  0.0404  0.0682  0.0688 ...  0.0036  0.0043  0.0018   M\n",
       "184  0.0269  0.0383  0.0505  0.0707 ...  0.0027  0.0055  0.0057   M\n",
       "185  0.0340  0.0625  0.0381  0.0257 ...  0.0051  0.0033  0.0058   M\n",
       "186  0.0209  0.0191  0.0411  0.0321 ...  0.0087  0.0070  0.0042   M\n",
       "187  0.0368  0.0279  0.0103  0.0566 ...  0.0086  0.0110  0.0052   M\n",
       "188  0.0089  0.0274  0.0248  0.0237 ...  0.0069  0.0060  0.0018   M\n",
       "189  0.0158  0.0239  0.0150  0.0494 ...  0.0046  0.0022  0.0021   M\n",
       "190  0.0156  0.0210  0.0282  0.0596 ...  0.0056  0.0048  0.0024   M\n",
       "191  0.0315  0.0252  0.0167  0.0479 ...  0.0035  0.0001  0.0055   M\n",
       "192  0.0056  0.0267  0.0221  0.0561 ...  0.0024  0.0034  0.0007   M\n",
       "193  0.0203  0.0121  0.0380  0.0128 ...  0.0036  0.0013  0.0016   M\n",
       "194  0.0392  0.0108  0.0267  0.0257 ...  0.0044  0.0022  0.0014   M\n",
       "195  0.0129  0.0141  0.0309  0.0375 ...  0.0017  0.0024  0.0029   M\n",
       "196  0.0050  0.0017  0.0270  0.0450 ...  0.0063  0.0017  0.0028   M\n",
       "197  0.0366  0.0421  0.0504  0.0250 ...  0.0017  0.0027  0.0027   M\n",
       "198  0.0238  0.0318  0.0422  0.0399 ...  0.0013  0.0035  0.0060   M\n",
       "199  0.0116  0.0744  0.0367  0.0225 ...  0.0044  0.0057  0.0035   M\n",
       "200  0.0131  0.0387  0.0329  0.0078 ...  0.0009  0.0015  0.0085   M\n",
       "201  0.0335  0.0258  0.0398  0.0570 ...  0.0022  0.0005  0.0031   M\n",
       "202  0.0272  0.0378  0.0488  0.0848 ...  0.0051  0.0065  0.0103   M\n",
       "203  0.0187  0.0346  0.0168  0.0177 ...  0.0115  0.0193  0.0157   M\n",
       "204  0.0323  0.0101  0.0298  0.0564 ...  0.0032  0.0062  0.0067   M\n",
       "205  0.0522  0.0437  0.0180  0.0292 ...  0.0138  0.0077  0.0031   M\n",
       "206  0.0303  0.0353  0.0490  0.0608 ...  0.0079  0.0036  0.0048   M\n",
       "207  0.0260  0.0363  0.0136  0.0272 ...  0.0036  0.0061  0.0115   M\n",
       "\n",
       "[208 rows x 61 columns]>"
      ]
     },
     "execution_count": 2,
     "metadata": {},
     "output_type": "execute_result"
    }
   ],
   "source": [
    "## READING THE DATASET\n",
    "sonar = pd.read_csv(\"sonar.csv\", header= None )\n",
    "sonar.head"
   ]
  },
  {
   "cell_type": "code",
   "execution_count": null,
   "metadata": {},
   "outputs": [],
   "source": [
    "sonar.describe()"
   ]
  },
  {
   "cell_type": "code",
   "execution_count": null,
   "metadata": {},
   "outputs": [],
   "source": [
    "sonar.dtypes"
   ]
  },
  {
   "cell_type": "code",
   "execution_count": 3,
   "metadata": {},
   "outputs": [],
   "source": [
    "x = sonar.iloc[:,0:60].values\n",
    "y = sonar.iloc[:, 60].values"
   ]
  },
  {
   "cell_type": "code",
   "execution_count": 13,
   "metadata": {},
   "outputs": [],
   "source": [
    "## feature encoding\n",
    "from sklearn.preprocessing import LabelEncoder, OneHotEncoder\n",
    "encoder = LabelEncoder()\n",
    "y = encoder.fit_transform(y)"
   ]
  },
  {
   "cell_type": "code",
   "execution_count": 14,
   "metadata": {},
   "outputs": [],
   "source": [
    "## splitting into train and test sets\n",
    "from sklearn.model_selection import train_test_split\n",
    "x_train,x_test,y_train,y_test = train_test_split(x,y,test_size = 0.25, random_state = 0)"
   ]
  },
  {
   "cell_type": "code",
   "execution_count": 15,
   "metadata": {},
   "outputs": [],
   "source": [
    "## feature scaling\n",
    "from sklearn.preprocessing import StandardScaler\n",
    "sc = StandardScaler()\n",
    "x_train = sc.fit_transform(x_train)\n",
    "x_test = sc.fit_transform(x_test)\n"
   ]
  },
  {
   "cell_type": "code",
   "execution_count": 17,
   "metadata": {},
   "outputs": [],
   "source": [
    "import keras\n",
    "from keras.models import Sequential\n",
    "from keras.layers import Dense\n",
    "from keras.layers import Dropout"
   ]
  },
  {
   "cell_type": "code",
   "execution_count": 18,
   "metadata": {},
   "outputs": [],
   "source": [
    "###Initialise the ANN \n",
    "classifier = Sequential()"
   ]
  },
  {
   "cell_type": "code",
   "execution_count": 20,
   "metadata": {},
   "outputs": [],
   "source": [
    "##Building the Input and hidden layers\n",
    "\n",
    "classifier.add(Dense(units=1, activation='sigmoid', kernel_initializer='uniform', input_dim = 60))\n",
    "classifier.add(Dropout(rate = 0.1))"
   ]
  },
  {
   "cell_type": "code",
   "execution_count": 21,
   "metadata": {},
   "outputs": [],
   "source": [
    "###compiling the ANN\n",
    "classifier.compile(loss=\"binary_crossentropy\", optimizer=\"adam\", metrics=['accuracy'])"
   ]
  },
  {
   "cell_type": "code",
   "execution_count": 22,
   "metadata": {},
   "outputs": [
    {
     "name": "stdout",
     "output_type": "stream",
     "text": [
      "Epoch 1/10\n",
      "156/156 [==============================] - 1s 6ms/step - loss: 1.8391 - acc: 0.4551\n",
      "Epoch 2/10\n",
      "156/156 [==============================] - 0s 289us/step - loss: 1.3603 - acc: 0.4615\n",
      "Epoch 3/10\n",
      "156/156 [==============================] - 0s 263us/step - loss: 1.4625 - acc: 0.4487\n",
      "Epoch 4/10\n",
      "156/156 [==============================] - 0s 249us/step - loss: 1.3362 - acc: 0.4872\n",
      "Epoch 5/10\n",
      "156/156 [==============================] - 0s 245us/step - loss: 1.5523 - acc: 0.4487\n",
      "Epoch 6/10\n",
      "156/156 [==============================] - 0s 266us/step - loss: 1.7581 - acc: 0.4231\n",
      "Epoch 7/10\n",
      "156/156 [==============================] - 0s 241us/step - loss: 1.2354 - acc: 0.4872\n",
      "Epoch 8/10\n",
      "156/156 [==============================] - 0s 256us/step - loss: 1.3505 - acc: 0.4551\n",
      "Epoch 9/10\n",
      "156/156 [==============================] - 0s 242us/step - loss: 1.5418 - acc: 0.4487\n",
      "Epoch 10/10\n",
      "156/156 [==============================] - 0s 244us/step - loss: 1.3455 - acc: 0.5385\n"
     ]
    },
    {
     "data": {
      "text/plain": [
       "<keras.callbacks.History at 0x1a31c01128>"
      ]
     },
     "execution_count": 22,
     "metadata": {},
     "output_type": "execute_result"
    }
   ],
   "source": [
    "## fitting ANN on trainset\n",
    "classifier.fit(x_train, y_train, batch_size=10, epochs=10)"
   ]
  },
  {
   "cell_type": "code",
   "execution_count": 25,
   "metadata": {},
   "outputs": [],
   "source": [
    "## predicting on Test Set\n",
    "y_pred = classifier.predict(x_test) > 0.5"
   ]
  },
  {
   "cell_type": "code",
   "execution_count": 26,
   "metadata": {
    "collapsed": true
   },
   "outputs": [
    {
     "data": {
      "text/plain": [
       "array([[26,  0],\n",
       "       [26,  0]])"
      ]
     },
     "execution_count": 26,
     "metadata": {},
     "output_type": "execute_result"
    }
   ],
   "source": [
    "## condusion matrix\n",
    "from sklearn.metrics import confusion_matrix\n",
    "cm = confusion_matrix(y_test, y_pred)\n",
    "cm"
   ]
  },
  {
   "cell_type": "markdown",
   "metadata": {},
   "source": []
  },
  {
   "cell_type": "code",
   "execution_count": null,
   "metadata": {},
   "outputs": [],
   "source": []
  }
 ],
 "metadata": {
  "kernelspec": {
   "display_name": "Python 3",
   "language": "python",
   "name": "python3"
  },
  "language_info": {
   "codemirror_mode": {
    "name": "ipython",
    "version": 3
   },
   "file_extension": ".py",
   "mimetype": "text/x-python",
   "name": "python",
   "nbconvert_exporter": "python",
   "pygments_lexer": "ipython3",
   "version": "3.6.5"
  }
 },
 "nbformat": 4,
 "nbformat_minor": 2
}
